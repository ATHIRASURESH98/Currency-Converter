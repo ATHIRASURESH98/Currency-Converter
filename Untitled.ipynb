{
 "cells": [
  {
   "cell_type": "markdown",
   "id": "591a006c",
   "metadata": {},
   "source": [
    "# Currency Converter"
   ]
  },
  {
   "cell_type": "code",
   "execution_count": 2,
   "id": "d2583771",
   "metadata": {},
   "outputs": [],
   "source": [
    "from customtkinter import *\n",
    "\n",
    "set_appearance_mode('dark')\n",
    "set_default_color_theme('green')\n",
    "\n",
    "root = CTk() \n",
    "root.title('Currency Converter')\n",
    "root.geometry('500x500')\n",
    "\n",
    "# function def\n",
    "\n",
    "# widget def\n",
    "input_amount = CTkEntry(root,placeholder_text='Enter amount',width=200)\n",
    "input_amount.grid(row=0,column=0,padx=10,pady=10)\n",
    "\n",
    "eql = CTkLabel(root,text='=')\n",
    "eql.grid(row=0,column=1,padx=10,pady=10)\n",
    "\n",
    "output_amount = CTkEntry(root,placeholder_text='',width=200)\n",
    "output_amount.grid(row=0,column=2,padx=10,pady=10)\n",
    "\n",
    "#def list of currencies\n",
    "\n",
    "cur=['INR','USD','KWD','QAR','VKD']\n",
    "\n",
    "input_currency=CTkComboBox(root,values=cur)\n",
    "input_currency.grid(row=1,column=0,padx=10,pady=10)\n",
    "\n",
    "to = CTkLabel(root,text='To')\n",
    "to.grid(row=1,column=1,padx=10,pady=10)\n",
    "\n",
    "output_currency=CTkComboBox(root,values=cur)\n",
    "output_currency.grid(row=1,column=2,padx=10,pady=10)\n",
    "\n",
    "# run root\n",
    "root.mainloop()\n"
   ]
  },
  {
   "cell_type": "code",
   "execution_count": null,
   "id": "27882b4d",
   "metadata": {},
   "outputs": [],
   "source": []
  }
 ],
 "metadata": {
  "kernelspec": {
   "display_name": "Python 3 (ipykernel)",
   "language": "python",
   "name": "python3"
  },
  "language_info": {
   "codemirror_mode": {
    "name": "ipython",
    "version": 3
   },
   "file_extension": ".py",
   "mimetype": "text/x-python",
   "name": "python",
   "nbconvert_exporter": "python",
   "pygments_lexer": "ipython3",
   "version": "3.9.13"
  }
 },
 "nbformat": 4,
 "nbformat_minor": 5
}
